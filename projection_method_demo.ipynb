{
 "cells": [
  {
   "cell_type": "markdown",
   "metadata": {},
   "source": [
    "\n",
    "From our Navier-Stokes equation: \n",
    "\\begin{equation}\n",
    "\\frac{\\partial u}{\\partial t} = -\\Delta P + \\eta \\Delta^2 u - \\gamma P u\n",
    "\\end{equation}\n",
    "\n",
    "Where P is pressure, \\eta is a viscosity, and u is a fluid velocity, we can apply \\textbf{Chorin's projection method} to solve the system numerically. The basic steps of Chorin's method are:\n",
    "\n",
    "1) Compute intermediate velocity, $u^*$\n",
    "\n",
    "2) Solve poisson eqn to get P\n",
    "\n",
    "3) Correct the intermediate velocity to find $u_{(n+1)}$\n",
    "\n",
    "\n",
    "\n",
    "\n",
    "Reference: \n",
    "\n",
    "https://math.berkeley.edu/~chorin/chorin68.pdf\n",
    "\n",
    "https://www3.nd.edu/~gtryggva/CFD-Course/2011-Lecture-22.pdf"
   ]
  },
  {
   "cell_type": "code",
   "execution_count": 1,
   "metadata": {
    "collapsed": true
   },
   "outputs": [],
   "source": [
    "# IMPORT STATEMENTS\n",
    "\n",
    "import numpy as np\n",
    "from scipy import misc, fftpack\n",
    "import os\n",
    "import matplotlib.pyplot as plt\n",
    "import time"
   ]
  },
  {
   "cell_type": "code",
   "execution_count": 2,
   "metadata": {
    "collapsed": false
   },
   "outputs": [],
   "source": [
    "# BOTH OF THESE MAY NEED MODIFYING TO HANDLE BODY FORCES\n",
    "\n",
    "# ==================================================\n",
    "# GET INTERMEDIATE VELOCITY (u*) STEP \n",
    "# ==================================================\n",
    "def vel_temps(dt,dx,v,nx,ny,ux,uy,ux_star,uy_star):\n",
    "    \n",
    "    # get ux*\n",
    "    for i in range(1,nx): \n",
    "        for j in range(1,ny+1):\n",
    "            ux_star[i,j]=ux[i,j]+dt*(-(0.25/dx)*((ux[i+1,j]+ux[i,j])**2-(ux[i,j]+ux[i-1,j])**2+(ux[i,j+1]+ux[i,j])*(uy[i+1,j]+uy[i,j])-(ux[i,j]+ux[i,j-1])*(uy[i+1,j-1]+uy[i,j-1]))+(v/dx**2)*(ux[i+1,j]+ux[i-1,j]+ux[i,j+1]+ux[i,j-1]-4*ux[i,j]))\n",
    "    # get uy*\n",
    "    for i in range(1,nx+1):\n",
    "        for j in range(1,ny): \n",
    "            uy_star[i,j]=uy[i,j]+dt*(-(0.25/dx)*((ux[i,j+1]+ux[i,j])*(uy[i+1,j]+uy[i,j])-(ux[i-1,j+1]+ux[i-1,j])*(uy[i,j]+uy[i-1,j])+(uy[i,j+1]+uy[i,j])**2-(uy[i,j]+uy[i,j-1])**2)+(v/dx**2)*(uy[i+1,j]+uy[i-1,j]+uy[i,j+1]+uy[i,j-1]-4*uy[i,j]))\n",
    "    return ux_star, uy_star\n",
    "\n",
    "# ==================================================\n",
    "# SOLVE POISSON EQUATION TO GET PRESSURE -- borrowed from another code! should likely be replaced\n",
    "# Somewhat slow at current, I think -- perhaps should find a library function for this? \n",
    "# ==================================================\n",
    "def poisson(dt,dx,nx,ny,b,c,ux_temp,uy_temp,p):\n",
    "\n",
    "    E = 1; T = 5e-6    # error and tolerance cutoffs\n",
    "    itmax = 200        # don't let it run too long ... \n",
    "    p_prev = p\n",
    "    for it in range(0,itmax): \n",
    "        for i in range(1,nx+1): \n",
    "            for j in range(1,ny+1):\n",
    "                p[i,j]=b*c[i,j]*(p[i+1,j]+p[i-1,j]+p[i,j+1]+p[i,j-1]-(dx/dt)*(ux_temp[i,j]-ux_temp[i-1,j]+uy_temp[i,j]-uy_temp[i,j-1]))+(1-b)*p[i,j]\n",
    "        E = np.max( abs( p - p_prev ) ) \n",
    "        p_prev = p\n",
    "        if E < T:  break \n",
    "    return p\n"
   ]
  },
  {
   "cell_type": "code",
   "execution_count": 3,
   "metadata": {
    "collapsed": false
   },
   "outputs": [],
   "source": [
    "def projection():\n",
    "    \n",
    "    # GRID PARAMETERS ===========================================================\n",
    "    lx = 1.0                      # x length dimension\n",
    "    ly = 2.0                      # y length dimension\n",
    "    gridres = 100\n",
    "    nx = int(gridres*lx)          # x grid resolution\n",
    "    ny = int(gridres*ly)          # y grid resolution  \n",
    "    dx = lx/nx         \n",
    "\n",
    "    # SIMULATION PARAMETERS =====================================================\n",
    "    mu = 5.           # dynamic viscosity (kg / m*s)\n",
    "    rho = 1000.       # Fluid density (kg/m^3) \n",
    "    v=mu/rho          # kinematic viscosity\n",
    "    b=1.25            # relaxation? \n",
    "\n",
    "    # INITIALIZE ARRAYS =========================================================\n",
    "    ux=np.zeros((nx+1,ny+2))        # x vel\n",
    "    uy=np.zeros((nx+2,ny+1))        # y vel\n",
    "    p=np.zeros((nx+2,ny+2))         # pressure \n",
    "    ux_star=np.zeros((nx+1,ny+2))   # u*\n",
    "    uy_star=np.zeros((nx+2,ny+1))   # v*\n",
    "\n",
    "    # part of my borrowed poisson solving .... again, maybe replce this with a library function? \n",
    "    c=1/4*np.ones((nx+2,ny+2))  # interior\n",
    "    c[1,2:ny-1]=1/3             # boundary \n",
    "    c[nx,2:ny-1]=1/3            # boundary \n",
    "    c[2:nx-1,1]=1/3             # boundary \n",
    "    c[2:nx-1,ny]=1/3            # boundary \n",
    "    c[1,1]=1/2                  # corner\n",
    "    c[1,ny]=1/2                 # corner \n",
    "    c[nx,1]=1/2                 # corner \n",
    "    c[nx,ny]=1/2                # corner \n",
    "\n",
    "    # BOUNDARY CONDTIONS \n",
    "    U = 1.0                # reference velocity \n",
    "    xnorth = U             # injects with some reference velocity at the beginning of every time step\n",
    "    xsouth = 0.0          \n",
    "    yright = 0.0\n",
    "    yleft = 0.0\n",
    "    uy = U*np.ones((nx+2,ny+1))  # y vel initialized to a constant --- obviously can be changed and played with\n",
    "    nsteps = 300\n",
    "    dt = 0.00125                 # perhaps better to calculate this somehow, rather than make a guess? \n",
    "    \n",
    "    # Print info\n",
    "    print 'be sure dt < ', 0.25*dx*dx/v       # time step restriction: dx^2/(4*kin visc.) \n",
    "    print 'dt: ', dt\n",
    "    print 'Reynolds number: ', ly*U/v         # U*L/v ((char. length * char. vel.)/kinematic visc.)\n",
    "\n",
    "    print_num = 30      # print every this many steps\n",
    "\n",
    "    # TIME STEPPING ================================================\n",
    "    for j in range(1,nsteps+1):\n",
    "        \n",
    "        t = j*dt\n",
    "        \n",
    "        # these are some BCs -- totally should be changed and updated \n",
    "        # boundary conditions ---> currently, this is borrowed from another code... \n",
    "        # someone should try to implement PBCs \n",
    "        \n",
    "        ux[0:nx,:] = (ux[0:nx,:] + xnorth )* np.tanh(2.5*t)    # for example, I've played with this to show fluid being \n",
    "                                                               # injected from the top --- would be better to have it \n",
    "                                                               # stream around the side \n",
    "        #ux[0:nx,0]   = ( 2*xnorth-ux[0:nx,1]  )  * np.tanh(2.5*t)\n",
    "        ux[0:nx,ny+1] = ( 2*xsouth-ux[0:nx,ny] )  * np.tanh(2.5*t)\n",
    "        uy[0,0:ny]   = ( 2*yleft-uy[1,0:ny] )  * np.tanh(2.5*t)\n",
    "        uy[nx+1,0:ny]= ( 2*yright-uy[nx,0:ny] )* np.tanh(2.5*t)\n",
    "\n",
    "        for k in range(0,3):\n",
    "\n",
    "            # calculate temporary velocity fields \n",
    "            ux_star, uy_star = vel_temps(dt,dx,v,nx,ny,ux,uy,ux_star,uy_star)\n",
    "\n",
    "            # solve Poisson eqn for pressure? \n",
    "            p = poisson(dt,dx,nx,ny,b,c,ux_star,uy_star,p)\n",
    "\n",
    "            # repair velocity \n",
    "            ux[1:nx-1,1:ny] = ux_star[1:nx-1,1:ny] - (dt/dx) * ( p[2:nx,1:ny] - p[1:nx-1,1:ny] )\n",
    "            uy[1:nx,1:ny-1] = uy_star[1:nx,1:ny-1] - (dt/dx) * ( p[1:nx,2:ny] - p[1:nx,1:ny-1] )\n",
    "        \n",
    "        # Check how the simulation is going \n",
    "        if ( j % print_num == 0):\n",
    "            \n",
    "            # save images to make the video\n",
    "            plt.imshow(uy)     # currently this is just plotting the y velocity field. \n",
    "                               # maybe we would like more than this? \n",
    "            #plt.savefig('./' + \"/file%02d.png\" % j)    # uncomment this if you will try to make a movie afterwards\n",
    "            plt.show()\n",
    "            \n",
    "            print 'Time: ', t\n"
   ]
  },
  {
   "cell_type": "code",
   "execution_count": 4,
   "metadata": {
    "collapsed": false
   },
   "outputs": [
    {
     "name": "stdout",
     "output_type": "stream",
     "text": [
      "be sure dt <  0.005\n",
      "dt:  0.00125\n",
      "Reynolds number:  400.0\n"
     ]
    },
    {
     "data": {
      "image/png": "[encoded data removed]",
      "text/plain": [
       "<matplotlib.figure.Figure at 0x1165df310>"
      ]
     },
     "metadata": {},
     "output_type": "display_data"
    },
    {
     "name": "stdout",
     "output_type": "stream",
     "text": [
      "Time:  0.0375\n"
     ]
    },
    {
     "ename": "KeyboardInterrupt",
     "evalue": "",
     "output_type": "error",
     "traceback": [
      "\u001b[0;31m---------------------------------------------------------------------------\u001b[0m",
      "\u001b[0;31mKeyboardInterrupt\u001b[0m                         Traceback (most recent call last)",
      "\u001b[0;32m<ipython-input-4-3e25d6ce1b4c>\u001b[0m in \u001b[0;36m<module>\u001b[0;34m()\u001b[0m\n\u001b[1;32m      5\u001b[0m \u001b[0mstart\u001b[0m \u001b[0;34m=\u001b[0m \u001b[0mtime\u001b[0m\u001b[0;34m.\u001b[0m\u001b[0mtime\u001b[0m\u001b[0;34m(\u001b[0m\u001b[0;34m)\u001b[0m\u001b[0;34m\u001b[0m\u001b[0m\n\u001b[1;32m      6\u001b[0m \u001b[0;34m\u001b[0m\u001b[0m\n\u001b[0;32m----> 7\u001b[0;31m \u001b[0mprojection\u001b[0m\u001b[0;34m(\u001b[0m\u001b[0;34m)\u001b[0m\u001b[0;34m\u001b[0m\u001b[0m\n\u001b[0m\u001b[1;32m      8\u001b[0m \u001b[0;34m\u001b[0m\u001b[0m\n\u001b[1;32m      9\u001b[0m \u001b[0mend\u001b[0m \u001b[0;34m=\u001b[0m \u001b[0mtime\u001b[0m\u001b[0;34m.\u001b[0m\u001b[0mtime\u001b[0m\u001b[0;34m(\u001b[0m\u001b[0;34m)\u001b[0m\u001b[0;34m\u001b[0m\u001b[0m\n",
      "\u001b[0;32m<ipython-input-3-53414e5d8043>\u001b[0m in \u001b[0;36mprojection\u001b[0;34m()\u001b[0m\n\u001b[1;32m     70\u001b[0m \u001b[0;34m\u001b[0m\u001b[0m\n\u001b[1;32m     71\u001b[0m             \u001b[0;31m# calculate temporary velocity fields\u001b[0m\u001b[0;34m\u001b[0m\u001b[0;34m\u001b[0m\u001b[0m\n\u001b[0;32m---> 72\u001b[0;31m             \u001b[0mux_star\u001b[0m\u001b[0;34m,\u001b[0m \u001b[0muy_star\u001b[0m \u001b[0;34m=\u001b[0m \u001b[0mvel_temps\u001b[0m\u001b[0;34m(\u001b[0m\u001b[0mdt\u001b[0m\u001b[0;34m,\u001b[0m\u001b[0mdx\u001b[0m\u001b[0;34m,\u001b[0m\u001b[0mv\u001b[0m\u001b[0;34m,\u001b[0m\u001b[0mnx\u001b[0m\u001b[0;34m,\u001b[0m\u001b[0mny\u001b[0m\u001b[0;34m,\u001b[0m\u001b[0mux\u001b[0m\u001b[0;34m,\u001b[0m\u001b[0muy\u001b[0m\u001b[0;34m,\u001b[0m\u001b[0mux_star\u001b[0m\u001b[0;34m,\u001b[0m\u001b[0muy_star\u001b[0m\u001b[0;34m)\u001b[0m\u001b[0;34m\u001b[0m\u001b[0m\n\u001b[0m\u001b[1;32m     73\u001b[0m \u001b[0;34m\u001b[0m\u001b[0m\n\u001b[1;32m     74\u001b[0m             \u001b[0;31m# solve Poisson eqn for pressure?\u001b[0m\u001b[0;34m\u001b[0m\u001b[0;34m\u001b[0m\u001b[0m\n",
      "\u001b[0;32m<ipython-input-2-145d849c3746>\u001b[0m in \u001b[0;36mvel_temps\u001b[0;34m(dt, dx, v, nx, ny, ux, uy, ux_star, uy_star)\u001b[0m\n\u001b[1;32m     13\u001b[0m     \u001b[0;32mfor\u001b[0m \u001b[0mi\u001b[0m \u001b[0;32min\u001b[0m \u001b[0mrange\u001b[0m\u001b[0;34m(\u001b[0m\u001b[0;36m1\u001b[0m\u001b[0;34m,\u001b[0m\u001b[0mnx\u001b[0m\u001b[0;34m+\u001b[0m\u001b[0;36m1\u001b[0m\u001b[0;34m)\u001b[0m\u001b[0;34m:\u001b[0m\u001b[0;34m\u001b[0m\u001b[0m\n\u001b[1;32m     14\u001b[0m         \u001b[0;32mfor\u001b[0m \u001b[0mj\u001b[0m \u001b[0;32min\u001b[0m \u001b[0mrange\u001b[0m\u001b[0;34m(\u001b[0m\u001b[0;36m1\u001b[0m\u001b[0;34m,\u001b[0m\u001b[0mny\u001b[0m\u001b[0;34m)\u001b[0m\u001b[0;34m:\u001b[0m\u001b[0;34m\u001b[0m\u001b[0m\n\u001b[0;32m---> 15\u001b[0;31m             \u001b[0muy_star\u001b[0m\u001b[0;34m[\u001b[0m\u001b[0mi\u001b[0m\u001b[0;34m,\u001b[0m\u001b[0mj\u001b[0m\u001b[0;34m]\u001b[0m\u001b[0;34m=\u001b[0m\u001b[0muy\u001b[0m\u001b[0;34m[\u001b[0m\u001b[0mi\u001b[0m\u001b[0;34m,\u001b[0m\u001b[0mj\u001b[0m\u001b[0;34m]\u001b[0m\u001b[0;34m+\u001b[0m\u001b[0mdt\u001b[0m\u001b[0;34m*\u001b[0m\u001b[0;34m(\u001b[0m\u001b[0;34m-\u001b[0m\u001b[0;34m(\u001b[0m\u001b[0;36m0.25\u001b[0m\u001b[0;34m/\u001b[0m\u001b[0mdx\u001b[0m\u001b[0;34m)\u001b[0m\u001b[0;34m*\u001b[0m\u001b[0;34m(\u001b[0m\u001b[0;34m(\u001b[0m\u001b[0mux\u001b[0m\u001b[0;34m[\u001b[0m\u001b[0mi\u001b[0m\u001b[0;34m,\u001b[0m\u001b[0mj\u001b[0m\u001b[0;34m+\u001b[0m\u001b[0;36m1\u001b[0m\u001b[0;34m]\u001b[0m\u001b[0;34m+\u001b[0m\u001b[0mux\u001b[0m\u001b[0;34m[\u001b[0m\u001b[0mi\u001b[0m\u001b[0;34m,\u001b[0m\u001b[0mj\u001b[0m\u001b[0;34m]\u001b[0m\u001b[0;34m)\u001b[0m\u001b[0;34m*\u001b[0m\u001b[0;34m(\u001b[0m\u001b[0muy\u001b[0m\u001b[0;34m[\u001b[0m\u001b[0mi\u001b[0m\u001b[0;34m+\u001b[0m\u001b[0;36m1\u001b[0m\u001b[0;34m,\u001b[0m\u001b[0mj\u001b[0m\u001b[0;34m]\u001b[0m\u001b[0;34m+\u001b[0m\u001b[0muy\u001b[0m\u001b[0;34m[\u001b[0m\u001b[0mi\u001b[0m\u001b[0;34m,\u001b[0m\u001b[0mj\u001b[0m\u001b[0;34m]\u001b[0m\u001b[0;34m)\u001b[0m\u001b[0;34m-\u001b[0m\u001b[0;34m(\u001b[0m\u001b[0mux\u001b[0m\u001b[0;34m[\u001b[0m\u001b[0mi\u001b[0m\u001b[0;34m-\u001b[0m\u001b[0;36m1\u001b[0m\u001b[0;34m,\u001b[0m\u001b[0mj\u001b[0m\u001b[0;34m+\u001b[0m\u001b[0;36m1\u001b[0m\u001b[0;34m]\u001b[0m\u001b[0;34m+\u001b[0m\u001b[0mux\u001b[0m\u001b[0;34m[\u001b[0m\u001b[0mi\u001b[0m\u001b[0;34m-\u001b[0m\u001b[0;36m1\u001b[0m\u001b[0;34m,\u001b[0m\u001b[0mj\u001b[0m\u001b[0;34m]\u001b[0m\u001b[0;34m)\u001b[0m\u001b[0;34m*\u001b[0m\u001b[0;34m(\u001b[0m\u001b[0muy\u001b[0m\u001b[0;34m[\u001b[0m\u001b[0mi\u001b[0m\u001b[0;34m,\u001b[0m\u001b[0mj\u001b[0m\u001b[0;34m]\u001b[0m\u001b[0;34m+\u001b[0m\u001b[0muy\u001b[0m\u001b[0;34m[\u001b[0m\u001b[0mi\u001b[0m\u001b[0;34m-\u001b[0m\u001b[0;36m1\u001b[0m\u001b[0;34m,\u001b[0m\u001b[0mj\u001b[0m\u001b[0;34m]\u001b[0m\u001b[0;34m)\u001b[0m\u001b[0;34m+\u001b[0m\u001b[0;34m(\u001b[0m\u001b[0muy\u001b[0m\u001b[0;34m[\u001b[0m\u001b[0mi\u001b[0m\u001b[0;34m,\u001b[0m\u001b[0mj\u001b[0m\u001b[0;34m+\u001b[0m\u001b[0;36m1\u001b[0m\u001b[0;34m]\u001b[0m\u001b[0;34m+\u001b[0m\u001b[0muy\u001b[0m\u001b[0;34m[\u001b[0m\u001b[0mi\u001b[0m\u001b[0;34m,\u001b[0m\u001b[0mj\u001b[0m\u001b[0;34m]\u001b[0m\u001b[0;34m)\u001b[0m\u001b[0;34m**\u001b[0m\u001b[0;36m2\u001b[0m\u001b[0;34m-\u001b[0m\u001b[0;34m(\u001b[0m\u001b[0muy\u001b[0m\u001b[0;34m[\u001b[0m\u001b[0mi\u001b[0m\u001b[0;34m,\u001b[0m\u001b[0mj\u001b[0m\u001b[0;34m]\u001b[0m\u001b[0;34m+\u001b[0m\u001b[0muy\u001b[0m\u001b[0;34m[\u001b[0m\u001b[0mi\u001b[0m\u001b[0;34m,\u001b[0m\u001b[0mj\u001b[0m\u001b[0;34m-\u001b[0m\u001b[0;36m1\u001b[0m\u001b[0;34m]\u001b[0m\u001b[0;34m)\u001b[0m\u001b[0;34m**\u001b[0m\u001b[0;36m2\u001b[0m\u001b[0;34m)\u001b[0m\u001b[0;34m+\u001b[0m\u001b[0;34m(\u001b[0m\u001b[0mv\u001b[0m\u001b[0;34m/\u001b[0m\u001b[0mdx\u001b[0m\u001b[0;34m**\u001b[0m\u001b[0;36m2\u001b[0m\u001b[0;34m)\u001b[0m\u001b[0;34m*\u001b[0m\u001b[0;34m(\u001b[0m\u001b[0muy\u001b[0m\u001b[0;34m[\u001b[0m\u001b[0mi\u001b[0m\u001b[0;34m+\u001b[0m\u001b[0;36m1\u001b[0m\u001b[0;34m,\u001b[0m\u001b[0mj\u001b[0m\u001b[0;34m]\u001b[0m\u001b[0;34m+\u001b[0m\u001b[0muy\u001b[0m\u001b[0;34m[\u001b[0m\u001b[0mi\u001b[0m\u001b[0;34m-\u001b[0m\u001b[0;36m1\u001b[0m\u001b[0;34m,\u001b[0m\u001b[0mj\u001b[0m\u001b[0;34m]\u001b[0m\u001b[0;34m+\u001b[0m\u001b[0muy\u001b[0m\u001b[0;34m[\u001b[0m\u001b[0mi\u001b[0m\u001b[0;34m,\u001b[0m\u001b[0mj\u001b[0m\u001b[0;34m+\u001b[0m\u001b[0;36m1\u001b[0m\u001b[0;34m]\u001b[0m\u001b[0;34m+\u001b[0m\u001b[0muy\u001b[0m\u001b[0;34m[\u001b[0m\u001b[0mi\u001b[0m\u001b[0;34m,\u001b[0m\u001b[0mj\u001b[0m\u001b[0;34m-\u001b[0m\u001b[0;36m1\u001b[0m\u001b[0;34m]\u001b[0m\u001b[0;34m-\u001b[0m\u001b[0;36m4\u001b[0m\u001b[0;34m*\u001b[0m\u001b[0muy\u001b[0m\u001b[0;34m[\u001b[0m\u001b[0mi\u001b[0m\u001b[0;34m,\u001b[0m\u001b[0mj\u001b[0m\u001b[0;34m]\u001b[0m\u001b[0;34m)\u001b[0m\u001b[0;34m)\u001b[0m\u001b[0;34m\u001b[0m\u001b[0m\n\u001b[0m\u001b[1;32m     16\u001b[0m     \u001b[0;32mreturn\u001b[0m \u001b[0mux_star\u001b[0m\u001b[0;34m,\u001b[0m \u001b[0muy_star\u001b[0m\u001b[0;34m\u001b[0m\u001b[0m\n\u001b[1;32m     17\u001b[0m \u001b[0;34m\u001b[0m\u001b[0m\n",
      "\u001b[0;31mKeyboardInterrupt\u001b[0m: "
     ]
    }
   ],
   "source": [
    "# RUN THE CODE HERE\n",
    "# the general method is good I think -- needs to have some modification to match our needs \n",
    "# in terms of forces, geometry, BCs.... etc. \n",
    "\n",
    "start = time.time()\n",
    "\n",
    "projection()\n",
    "\n",
    "end = time.time()\n",
    "print(end - start)"
   ]
  },
  {
   "cell_type": "code",
   "execution_count": null,
   "metadata": {
    "collapsed": false
   },
   "outputs": [],
   "source": [
    "# DOES NOT WORK WELL PRESENTLY -- fix if you can!\n",
    "# It should be reading in the images output by the main code, and then formatting them into a video\n",
    "# if remove section at the bottom is uncommented, it will also clean up all the left over image files\n",
    "\n",
    "import glob\n",
    "import os\n",
    "import subprocess\n",
    "\n",
    "def generate_video():\n",
    "\n",
    "    subprocess.call([\n",
    "        'ffmpeg', '-framerate', '5', '-i', 'file%02d.png', '-r', '30', '-pix_fmt', 'yuv420p',\n",
    "        'vid.mp4'\n",
    "    ])\n",
    "    #for file_name in glob.glob(\"*.png\"):\n",
    "        #os.remove(file_name)\n",
    "\n",
    "generate_video()"
   ]
  },
  {
   "cell_type": "code",
   "execution_count": null,
   "metadata": {
    "collapsed": true
   },
   "outputs": [],
   "source": []
  }
 ],
 "metadata": {
  "kernelspec": {
   "display_name": "Python 2",
   "language": "python",
   "name": "python2"
  },
  "language_info": {
   "codemirror_mode": {
    "name": "ipython",
    "version": 2
   },
   "file_extension": ".py",
   "mimetype": "text/x-python",
   "name": "python",
   "nbconvert_exporter": "python",
   "pygments_lexer": "ipython2",
   "version": "2.7.13"
  }
 },
 "nbformat": 4,
 "nbformat_minor": 2
}
