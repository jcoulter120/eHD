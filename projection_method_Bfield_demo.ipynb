{
 "cells": [
  {
   "cell_type": "markdown",
   "metadata": {},
   "source": [
    "# Magnetic Field and Momentum Dissipation Demo"
   ]
  },
  {
   "cell_type": "markdown",
   "metadata": {},
   "source": [
    "\n",
    "From our Navier-Stokes equation: \n",
    "\\begin{equation}\n",
    "\\frac{\\partial u}{\\partial t} = -\\Delta P + \\eta \\Delta^2 u - \\gamma P u\n",
    "\\end{equation}\n",
    "\n",
    "Where P is pressure, $\\eta$ is a viscosity, and u is a fluid velocity, we can apply Chorin's projection method to solve the system numerically. The basic steps of Chorin's method are:\n",
    "\n",
    "1) Compute intermediate velocity, $u^*$\n",
    "\n",
    "2) Solve poisson eqn to get P\n",
    "\n",
    "3) Correct the intermediate velocity to find $u_{(n+1)}$\n",
    "\n",
    "\n",
    "\n",
    "Reference: \n",
    "\n",
    "https://math.berkeley.edu/~chorin/chorin68.pdf\n",
    "\n",
    "https://www3.nd.edu/~gtryggva/CFD-Course/2011-Lecture-22.pdf"
   ]
  },
  {
   "cell_type": "markdown",
   "metadata": {},
   "source": [
    "## Magnetic Interaction\n",
    "The expression for a Magnetic field $\\vec B$ acting on a charged particle with charge $q=-e$ moving with velocity $\\vec v$ is:\n",
    "\n",
    " \\begin{align}\n",
    "\\vec F &= q \\vec v \\times \\vec B \\\\\n",
    " &= q ( v_x, v_y, 0) \\times (0, 0, B) \\\\\n",
    "&= qB (v_x \\hat x \\times \\hat z) + qB( v_y \\hat y \\times \\hat z)\\\\\n",
    " &= qB( -v_x \\hat y + v_y \\hat x) \\\\\n",
    " &= -eB( v_y, - v_x)\\\\\n",
    " &= B(-v_y, v_x)\\\\\n",
    " \\end{align}\n",
    "\n",
    "Which is a body force that couples the two directions of momentum. We can find the contribution to the $v_x$ and $v_y$ component simply by adding in this coupling term which occurs in the same cell. Working from the equation of motion\n",
    "\n",
    "$$ \\partial_t \\vec v = -A \\vec v + \\nu \\nabla^2 \\vec v + \\frac{qB}{\\rho} (\\vec v \\times \\vec B)$$\n",
    "$$ \\partial_t \\vec v = - A \\vec v + \\nu \\nabla^2 \\vec v + \\bar B (-v_y, v_x)$$\n",
    "where $\\bar B = \\frac{|e|B}{\\rho}$.\n",
    "\n",
    "In which all other terms, being derivatives with respect to time on the left and space on the right, discretize as usual. The term on the right is simply a coupling $\\bar B$ which then couples $v_x$ and $v_y$.\n",
    "\n",
    "When we discretize the term on the left just to illustrate the scaling with $\\Delta t$, where the value of the velocity at a timestep $n$ is given by $\\vec v_n$,\n",
    "\n",
    "$$ \\frac{\\vec v_{n+1} - \\vec v_n}{\\Delta t} = - A \\vec v_n + \\nu \\nabla^2 \\vec v_n + \\bar B (-v_y, v_x)$$\n",
    "\n",
    "Which then yields\n",
    "\n",
    "$$ \\vec v_{n+1} = \\vec v_n - \\Delta t \\left[ A \\vec v_n + \\nu \\nabla^2 \\vec v_n + \\bar B (-v_y, v_x)_n \\right]$$\n",
    "Which shows the coupling between the different $v$ components and the magnetic field is scaled by the length of the timestep."
   ]
  },
  {
   "cell_type": "markdown",
   "metadata": {},
   "source": [
    "## Dissipative Flow\n",
    "\n",
    "Dissipation which is dependent on the velocity of a fluid is a familiar component of other differential equations; for instance, if we model the motion of a body through a viscous fluid losing momentum to the medium, we can parameterize the equation of motion with a momentum-dependent term $\\gamma$. This would be included in the Navier-stokes equation as a momentum dependent body force\n",
    "\n",
    "$$ g(\\vec p) = -\\vec p \\gamma$$\n",
    "\n",
    "To put this in context, sometimes this is captured in the literature (for instance in Levitov & Falkovich arXiv:1508.00836v2, PRL 2016, Equation (1)) as a momentum transport equation:\n",
    "$$ \\partial_t = - \\partial_j T_{i,j} - \\gamma_p p_i$$\n",
    "\n",
    "In the code, this function is parameterizable as a simple number, and we can include it in the code accordingly. After dividing by $\\rho$ we can write it's integration into the velocity equation (building off of the discretized velocity equation from above), where $\\bar{\\gamma} = \\frac{\\gamma}{\\rho}$\n",
    "\n",
    "$$ \\vec v_{n+1} = \\vec v_n - \\Delta t \\left[ A \\vec v_n + \\nu \\nabla^2 \\vec v_n + \\bar B (-v_y, v_x)_n - \\bar{\\gamma} \\vec v_n  \\right]$$\n",
    "\n",
    "Note that we want $\\gamma$ to be positive, as this will 'resist' the flow. \n",
    "\n",
    "\n"
   ]
  },
  {
   "cell_type": "markdown",
   "metadata": {},
   "source": [
    "# How to Parameterize $\\gamma$ \n",
    "\n",
    "$\\gamma$ captures momentum-dissipative processes. Since the Feynman moethod may not be accessible to us (stare at the problem, think about it, then write down the full correct answer) We can start off by using the Landau method (take a wild guess and then with the Nobel prize).\n",
    "\n",
    "The first idea is that $\\gamma$, dimensionally, should be a rate. This means that the first naive guess could be, where $\\tau_{mr}$ is equal to the momentum relaxation.\n",
    "\n",
    "$$ \\gamma = \\frac{1}{\\tau_{mr}} = \\frac{1}{\\tau_{e-ph} } + \\frac{1}{\\tau_{umklapp}}$$\n",
    "\n",
    "One idea is that $\\gamma$ can depend on the momentum's direction-- for instance, the electron phonon coupling could be much stronger in one direction than in another, or depend on the momentum of the electron-- so $\\gamma$ could be parameterized more carefully with greater information about the momentum relaxation. \n",
    "\n",
    "One way we could do this is to parameterize $\\gamma$ as a matrix in cartesian coordinates; this could also encode scattering channels (in which the electrons bounce from one state to another).\n",
    "\n",
    "SKETCHES OF IDEAS;\n",
    "\n",
    "1. $\\gamma$ is a vector which has dependence on $q$, $\\theta$, $\\phi$ in spherical coordinates. The q dependence is an enveloping function that allows for dependence on the momentum of the electrons; thus, momentum-dependent coupling. Additionally, $\\theta$ and $\\phi$ copmonents can help the scattering processes be non isotropic.\n",
    "2. $\\gamma$ is a sum of sigmoid curves (tanh(x)+1) which are centered at different temperatures to turn on certain scattering processes or mode couplings and parameterize the distribution of electron-phonon interaction strengths.\n",
    "3. Apply a matrix which changes the cartesian basis to the spherical one, apply a $\\gamma$ matrix which applies momentum scattering events which are anisotropic, then transform back into cartesian\n",
    "\n",
    "\n"
   ]
  },
  {
   "cell_type": "code",
   "execution_count": 9,
   "metadata": {
    "collapsed": true
   },
   "outputs": [],
   "source": [
    "# IMPORT STATEMENTS\n",
    "\n",
    "import numpy as np\n",
    "from scipy import misc, fftpack\n",
    "import os\n",
    "import matplotlib.pyplot as plt\n",
    "import time"
   ]
  },
  {
   "cell_type": "code",
   "execution_count": 75,
   "metadata": {
    "collapsed": true
   },
   "outputs": [],
   "source": [
    "# BOTH OF THESE MAY NEED MODIFYING TO HANDLE BODY FORCES\n",
    "\n",
    "# ==================================================\n",
    "# GET INTERMEDIATE VELOCITY (u*) STEP \n",
    "# ==================================================\n",
    "def vel_temps(dt,dx,v,nx,ny,ux,uy,ux_star,uy_star,Bbar=0,gamma=0):\n",
    "    \n",
    "    # get ux*\n",
    "    for i in range(1,nx): \n",
    "        for j in range(1,ny+1):\n",
    "            ux_star[i,j]=ux[i,j] \\\n",
    "                         + dt*(-(0.25/dx)*((ux[i+1,j]+ux[i,j])**2\n",
    "                         -(ux[i,j]+ux[i-1,j])**2\n",
    "                         +(ux[i,j+1]+ux[i,j])*(uy[i+1,j]+uy[i,j])\n",
    "                         -(ux[i,j]+ux[i,j-1])*(uy[i+1,j-1]+uy[i,j-1]))\n",
    "                         +(v/dx**2)*(ux[i+1,j]+ux[i-1,j]+ux[i,j+1]\n",
    "                         +ux[i,j-1]-4*ux[i,j])) - dt*Bbar*uy[i,j] -dt*gamma*ux[i,j]\n",
    "    # get uy*\n",
    "    for i in range(1,nx+1):\n",
    "        for j in range(1,ny): \n",
    "            uy_star[i,j]=uy[i,j]\\\n",
    "                         +dt*(-(0.25/dx)*((ux[i,j+1]+ux[i,j])*(uy[i+1,j]+uy[i,j])\n",
    "                         -(ux[i-1,j+1]+ux[i-1,j])*(uy[i,j]+uy[i-1,j])\n",
    "                         +(uy[i,j+1]+uy[i,j])**2-(uy[i,j]+uy[i,j-1])**2)\n",
    "                         +(v/dx**2)*(uy[i+1,j]+uy[i-1,j]\n",
    "                         +uy[i,j+1]+uy[i,j-1]-4*uy[i,j])) +dt*Bbar*ux[i,j] - dt*gamma*uy[i,j]\n",
    "    return ux_star, uy_star\n",
    "\n",
    "# ==================================================\n",
    "# SOLVE POISSON EQUATION TO GET PRESSURE -- borrowed from another code! should likely be replaced\n",
    "# Somewhat slow at current, I think -- perhaps should find a library function for this? \n",
    "# ==================================================\n",
    "def poisson(dt,dx,nx,ny,b,c,ux_temp,uy_temp,p):\n",
    "\n",
    "    E = 1; T = 5e-6    # error and tolerance cutoffs\n",
    "    itmax = 200        # don't let it run too long ... \n",
    "    p_prev = np.copy(p)\n",
    "    for it in range(itmax): \n",
    "        for i in range(1,nx+1): \n",
    "            for j in range(1,ny+1):\n",
    "                p[i,j] = b*c[i,j]*( p[i+1,j]+p[i-1,j]+p[i,j+1]+p[i,j-1]\n",
    "                         -(dx/dt)*(ux_temp[i,j]-ux_temp[i-1,j]+uy_temp[i,j]-uy_temp[i,j-1]))\\\n",
    "                         +(1-b)*p[i,j]\n",
    "        E = np.max( abs( p - p_prev ) ) \n",
    "        p_prev = p\n",
    "        if E < T:  \n",
    "            break \n",
    "    print(\"Chorin took \",it,\" iterations\")\n",
    "    return p\n"
   ]
  },
  {
   "cell_type": "markdown",
   "metadata": {},
   "source": [
    "# Advection-DIffusion \n",
    "The discrete time-evolution step is as follows:\n",
    "\n",
    "$$ v_x^* = v^x_{i,j}+ \\Delta t \\left[ -\\frac{1}{4 \\Delta x} \\left( (v^x_{i+1,j} + v^x_{i,j})^2 - (v^x_{i,j} + v^x_{i-1,j})^2 + (v^x_{i,j+1} + v^x_{i,j})(v^y_{i+1,j} + v^y_{i,j}) - (v^x_{i,j} + v^x_{i,j-1})(v^y_{i+1,j-1} +v^y_{i,j-1}  \\right) \\right) + \\Delta t \\frac{\\nu}{\\Delta x^2}  \\left(v^x_{i+1,j} + v^x_{i-1,j} + v^x_{i,j+1} + v^x_{i,j-1} - 4 v^x_{i,j} ) \\right]$$ \n",
    "\n",
    "\n",
    "$$ v_y^* = v^y_{i,j}+ \\Delta t \\left[ -\\frac{1}{4 \\Delta x} \\left( (v^y_{i,j+1} + v^y_{i,j})^2   - (v^y_{i,j} + v^y_{i,j-1})^2 +  (v^x_{i,j+1} + v^x_{i,j})(v^y_{i+1,j} + v^y_{i,j}) - (v^x_{i-1,j+1} + v^x_{i-1,j} )( v^y_{i,j} + v^y_{i-1,j}) \\right)  + \\Delta t  \\frac{\\nu}{(\\Delta x)^2} \\left( v^y_{i+1,j} + v^y_{i-1,j} + v^y_{i,j+1} + v^y_{i,j-1} - 4 v^y_{i,j} \\right) \\right]\n",
    "$$\n",
    "\n",
    "The first term (prefactored by $ \\frac{\\Delta t}{4 \\Delta x}$) is identified with the advective flow/the material derivative.\n",
    "\n",
    "The second term (prefactored by $\\frac{\\Delta t \\nu}{(\\Delta x)^2}$) is identified with the viscous flow and 'conduction' of x- and y-velocity across neighboring cells.\n",
    "\n",
    "# Incompressible Flow\n",
    "Chorin's method works as follows.\n",
    "\n",
    "In the absence of body forces, we split the advection-diffusion timestep below:\n",
    "$$ \\frac{u^{n+1}_{i,j} - u^n_{i,j}}{\\Delta t} = - A_{i,j}^n - \\nabla P_{i,j} + D^n_{i,j}$$\n",
    "\n",
    "Into two intermediate steps. First, we find an intermediate velocity from the typical operation of the A-D processess in the absence of pressure forces:\n",
    "\n",
    "$$ u_{i,j}^* = u_{i,j}^n + \\Delta t( - A^n_{i,j} + D^n_{i,j})$$\n",
    "Which subs into the above equation as \n",
    "$$ \\frac{u^{n+1}_{i,j} = u^*_{i,j} - \\Delta t \\nabla P_{i,j}$$\n",
    "\n",
    "Then, by assuming mass conservation ($\\nabla \\cdot u^{n+1} =0$), we arrive at the equation\n",
    "\n",
    "$$ \\nabla^2 P_{i,j} = \\frac{1}{\\Delta t} \\nabla \\cdot u^t){i,j}$$\n",
    "\n",
    "If this equation is satisfied, then we have an appropriate pressure field which satisfies the incompressibility condition. After solving for the pressure field, we compute the equation above ( $\\frac{u^{n+1}_{i,j} = u^*_{i,j} - \\Delta t \\nabla P_{i,j}$) to find the new time step.\n",
    "\n",
    "When computing this on a lattice, we run an iterative procedure in which we seek to satisfy the equation (for an interior point on the domain):\n",
    "\n",
    "$$ \\beta \\frac{1}{4} \\left( P_{i+1,j} + P_{i-1,j} + P_{i,j+1} + P_{i,j-1} \\right) \n",
    "\n"
   ]
  },
  {
   "cell_type": "code",
   "execution_count": 78,
   "metadata": {},
   "outputs": [
    {
     "name": "stdout",
     "output_type": "stream",
     "text": [
      "('Chorin took ', 0, ' iterations')\n"
     ]
    },
    {
     "data": {
      "image/png": "[encoded data removed]",
      "text/plain": [
       "<matplotlib.figure.Figure at 0x108c6df50>"
      ]
     },
     "metadata": {},
     "output_type": "display_data"
    },
    {
     "name": "stdout",
     "output_type": "stream",
     "text": [
      "Time:  0.00125\n",
      "('Chorin took ', 0, ' iterations')\n"
     ]
    },
    {
     "data": {
      "image/png": "[encoded data removed]",
      "text/plain": [
       "<matplotlib.figure.Figure at 0x108f4ded0>"
      ]
     },
     "metadata": {},
     "output_type": "display_data"
    },
    {
     "name": "stdout",
     "output_type": "stream",
     "text": [
      "Time:  0.0025\n",
      "('Chorin took ', 0, ' iterations')\n"
     ]
    },
    {
     "data": {
      "image/png": "[encoded data removed]",
      "text/plain": [
       "<matplotlib.figure.Figure at 0x1a2123a990>"
      ]
     },
     "metadata": {},
     "output_type": "display_data"
    },
    {
     "name": "stdout",
     "output_type": "stream",
     "text": [
      "Time:  0.00375\n",
      "('Chorin took ', 0, ' iterations')\n"
     ]
    },
    {
     "data": {
      "image/png": "[encoded data removed]",
      "text/plain": [
       "<matplotlib.figure.Figure at 0x109dba890>"
      ]
     },
     "metadata": {},
     "output_type": "display_data"
    },
    {
     "name": "stdout",
     "output_type": "stream",
     "text": [
      "Time:  0.005\n",
      "('Chorin took ', 0, ' iterations')\n"
     ]
    },
    {
     "data": {
      "image/png": "[encoded data removed]",
      "text/plain": [
       "<matplotlib.figure.Figure at 0x1a20fe6b50>"
      ]
     },
     "metadata": {},
     "output_type": "display_data"
    },
    {
     "name": "stdout",
     "output_type": "stream",
     "text": [
      "Time:  0.00625\n",
      "('Chorin took ', 0, ' iterations')\n"
     ]
    },
    {
     "data": {
      "image/png": "[encoded data removed]",
      "text/plain": [
       "<matplotlib.figure.Figure at 0x10a2ab550>"
      ]
     },
     "metadata": {},
     "output_type": "display_data"
    },
    {
     "name": "stdout",
     "output_type": "stream",
     "text": [
      "Time:  0.0075\n",
      "('Chorin took ', 0, ' iterations')\n"
     ]
    },
    {
     "data": {
      "image/png": "[encoded data removed]",
      "text/plain": [
       "<matplotlib.figure.Figure at 0x1a1457f3d0>"
      ]
     },
     "metadata": {},
     "output_type": "display_data"
    },
    {
     "name": "stdout",
     "output_type": "stream",
     "text": [
      "Time:  0.00875\n",
      "('Chorin took ', 0, ' iterations')\n"
     ]
    },
    {
     "data": {
      "image/png": "[encoded data removed]",
      "text/plain": [
       "<matplotlib.figure.Figure at 0x1a13211650>"
      ]
     },
     "metadata": {},
     "output_type": "display_data"
    },
    {
     "name": "stdout",
     "output_type": "stream",
     "text": [
      "Time:  0.01\n",
      "('Chorin took ', 0, ' iterations')\n"
     ]
    },
    {
     "data": {
      "image/png": "[encoded data removed]",
      "text/plain": [
       "<matplotlib.figure.Figure at 0x109aef810>"
      ]
     },
     "metadata": {},
     "output_type": "display_data"
    },
    {
     "name": "stdout",
     "output_type": "stream",
     "text": [
      "Time:  0.01125\n",
      "('Chorin took ', 0, ' iterations')\n"
     ]
    },
    {
     "data": {
      "image/png": "[encoded data removed]",
      "text/plain": [
       "<matplotlib.figure.Figure at 0x10a132850>"
      ]
     },
     "metadata": {},
     "output_type": "display_data"
    },
    {
     "name": "stdout",
     "output_type": "stream",
     "text": [
      "Time:  0.0125\n",
      "6.10417509079\n"
     ]
    }
   ],
   "source": [
    "def projection(Bbar=0,Ebar=0):\n",
    "    \n",
    "    # GRID PARAMETERS ===========================================================\n",
    "    lx = 1.0                      # x length dimension\n",
    "    ly = 2.0                      # y length dimension\n",
    "    gridres = 100\n",
    "    nx = int(gridres*lx)          # x grid resolution\n",
    "    ny = int(gridres*ly)          # y grid resolution  \n",
    "    dx = lx/nx         \n",
    "\n",
    "    X,Y = np.meshgrid(np.linspace(0,lx,nx),np.linspace(0,ly,ny))\n",
    "    \n",
    "    \n",
    "    # SIMULATION PARAMETERS =====================================================\n",
    "    mu = 5.           # dynamic viscosity (kg / m*s)\n",
    "    rho = 1000.       # Fluid density (kg/m^3) \n",
    "    v=mu/rho          # kinematic viscosity\n",
    "    b=1.25            # relaxation? \n",
    "\n",
    "    # INITIALIZE ARRAYS =========================================================\n",
    "    ux=np.zeros((nx+1,ny+2))        # x vel\n",
    "    uy=np.zeros((nx+2,ny+1))        # y vel\n",
    "    p=np.zeros((nx+2,ny+2))         # pressure \n",
    "    ux_star=np.zeros((nx+1,ny+2))   # u*\n",
    "    uy_star=np.zeros((nx+2,ny+1))   # v*\n",
    "\n",
    "\n",
    "    # part of my borrowed poisson solving .... again, maybe replce this with a library function? \n",
    "    c=1/4*np.ones((nx+2,ny+2))  # interior\n",
    "    c[1,2:ny]=1/3             # boundary \n",
    "    c[nx,2:ny]=1/3            # boundary \n",
    "    c[2:nx,1]=1/3             # boundary \n",
    "    c[2:nx,ny]=1/3            # boundary \n",
    "    c[1,1]=1/2                  # corner\n",
    "    c[1,ny]=1/2                 # corner \n",
    "    c[nx,1]=1/2                 # corner \n",
    "    c[nx,ny]=1/2                # corner \n",
    "\n",
    "    # BOUNDARY CONDTIONS \n",
    "    U = 1                # reference velocity \n",
    "    xnorth = 0.0             # injects with some reference velocity at the beginning of every time step\n",
    "    xsouth = 0.0          \n",
    "    yright = 0.0\n",
    "    yleft = 0.0\n",
    "    uy = U*np.ones((nx+2,ny+1))  # y vel initialized to a constant --- obviously can be changed and played with\n",
    "    #uy = U*np.zeros((nx+2,ny+1))  # y vel initialized to a constant --- obviously can be changed and played with\n",
    "\n",
    "    nsteps = 10\n",
    "    dt = 0.00125               # perhaps better to calculate this somehow, rather than make a guess? \n",
    "    \n",
    "    # Print info\n",
    "    print_num = 5      # print every this many steps\n",
    "\n",
    "    # TIME STEPPING ================================================\n",
    "    for j in range(1,nsteps+1):\n",
    "        \n",
    "        t = j*dt\n",
    "        \n",
    "        # these are some BCs -- totally should be changed and updated \n",
    "        # boundary conditions ---> currently, this is borrowed from another code... \n",
    "        # someone should try to implement PBCs \n",
    "        \n",
    "        #ux[0:nx+1,:] = (ux[0:nx+1,:] + xnorth )* np.tanh(2.5*t)    # for example, I've played with this to show fluid being \n",
    "                                                               # injected from the top --- would be better to have it \n",
    "                                                               # stream around the side \n",
    "        #ux[0:nx+1,0]   = ( 2*xnorth-ux[0:nx+1,1]  )  * np.tanh(2.5*t)\n",
    "        #ux[0:nx+1,ny+1] = ( 2*xsouth-ux[0:nx+1,ny] )  * np.tanh(2.5*t)\n",
    "        #uy[0,0:ny+1]   = ( 2*yleft-uy[1,0:ny+1] )  * np.tanh(2.5*t)\n",
    "        #uy[nx+1,0:ny+1]= ( 2*yright-uy[nx,0:ny+1] )* np.tanh(2.5*t)\n",
    "        #\n",
    "        # Trying some new BC slices; will let you know how it goes...\n",
    "        #\n",
    "        ux[:,0]   = ( 2*xnorth-ux[0:nx+1,1]  )  #* np.tanh(2.5*t)\n",
    "        ux[:,ny+1] = ( 2*xsouth-ux[0:nx+1,ny] ) # * np.tanh(2.5*t)\n",
    "        uy[0,:]   = ( 2*yleft-uy[1,0:ny+1] ) # * np.tanh(2.5*t)\n",
    "        uy[nx+1,:]= ( 2*yright-uy[nx,0:ny+1] )#* np.tanh(2.5*t)\n",
    "\n",
    "        for k in range(0,1):\n",
    "\n",
    "            # calculate temporary velocity fields \n",
    "            ux_star, uy_star = vel_temps(dt,dx,v,nx,ny,ux,uy,ux_star,uy_star,Bbar)\n",
    "\n",
    "            # solve Poisson eqn for pressure? \n",
    "            p = poisson(dt,dx,nx,ny,b,c,ux_star,uy_star,p)\n",
    "\n",
    "            # repair velocity \n",
    "            ux[1:nx,1:ny+1] = ux_star[1:nx,1:ny+1] - (dt/dx) * ( p[2:nx+1,1:ny+1] - p[1:nx,1:ny+1] )\n",
    "            uy[1:nx+1,1:ny] = uy_star[1:nx+1,1:ny] - (dt/dx) * ( p[1:nx+1,2:ny+1] - p[1:nx+1,1:ny] )\n",
    "        \n",
    "        # Check how the simulation is going \n",
    "        if ( j % print_num == 0):\n",
    "            \n",
    "            # save images to make the video\n",
    "            plt.imshow(uy)\n",
    "            #xindexsample=[x*11 for x in range(10)]; xindexsample[-1]=99\n",
    "            #yindexsample=[x*11 for x in range(19)]; yindexsample[-1]=199\n",
    "            #velsquared= np.sqrt(np.square(ux[:,:-1]) + np.square(uy[:-1,:]))\n",
    "            #plt.imshow(velsquared,cmap=plt.get_cmap('winter'))     #\n",
    "\n",
    "            #for n in xindexsample:\n",
    "            #    for m in yindexsample:\n",
    "            #        plt.quiver(X[m,n]*100,Y[m,n]*200,ux[n,m],uy[n,m])\n",
    "\n",
    "                    #plt.quiver(X[n,m],Y[n,m],ux[:,:-1],uy[:-1,:])\n",
    "            #plt.savefig('./' + \"/file%03d.png\" % j)    # uncomment this if you will try to make a movie afterwards\n",
    "            plt.show()\n",
    "            print 'Time: ', t\n",
    "\n",
    "            \n",
    "start = time.time()\n",
    "\n",
    "projection(0,0)\n",
    "\n",
    "\n",
    "end = time.time()\n",
    "print(end - start)"
   ]
  },
  {
   "cell_type": "code",
   "execution_count": 68,
   "metadata": {},
   "outputs": [],
   "source": [
    "# RUN THE CODE HERE\n",
    "# the general method is good I think -- needs to have some modification to match our needs \n",
    "# in terms of forces, geometry, BCs.... etc. \n"
   ]
  },
  {
   "cell_type": "code",
   "execution_count": 19,
   "metadata": {
    "collapsed": true
   },
   "outputs": [],
   "source": [
    "# DOES NOT WORK WELL PRESENTLY -- fix if you can!\n",
    "# It should be reading in the images output by the main code, and then formatting them into a video\n",
    "# if remove section at the bottom is uncommented, it will also clean up all the left over image files\n",
    "\n",
    "# This requires ffmpeg, which can be installed by following the instructions here: \n",
    "# http://www.renevolution.com/ffmpeg/2013/03/16/how-to-install-ffmpeg-on-mac-os-x.html\n",
    "\n",
    "import glob\n",
    "import os\n",
    "import subprocess\n",
    "\n",
    "def generate_video():\n",
    "\n",
    "    subprocess.call([\n",
    "        'ffmpeg', '-framerate', '30', '-i', 'file%03d.png', '-r', '30', '-pix_fmt', 'yuv420p',\n",
    "        'vid.mp4'\n",
    "    ])\n",
    "    for file_name in glob.glob(\"*.png\"):\n",
    "        os.remove(file_name)\n",
    "\n",
    "generate_video()"
   ]
  },
  {
   "cell_type": "code",
   "execution_count": null,
   "metadata": {
    "collapsed": true
   },
   "outputs": [],
   "source": []
  },
  {
   "cell_type": "code",
   "execution_count": null,
   "metadata": {
    "collapsed": true
   },
   "outputs": [],
   "source": []
  }
 ],
 "metadata": {
  "kernelspec": {
   "display_name": "Python 2",
   "language": "python",
   "name": "python2"
  },
  "language_info": {
   "codemirror_mode": {
    "name": "ipython",
    "version": 2
   },
   "file_extension": ".py",
   "mimetype": "text/x-python",
   "name": "python",
   "nbconvert_exporter": "python",
   "pygments_lexer": "ipython2",
   "version": "2.7.14"
  }
 },
 "nbformat": 4,
 "nbformat_minor": 2
}
